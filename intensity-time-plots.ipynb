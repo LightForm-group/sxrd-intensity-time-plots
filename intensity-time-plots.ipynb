{
 "cells": [
  {
   "cell_type": "markdown",
   "metadata": {},
   "source": [
    "## Create a calibration using pyFAI"
   ]
  },
  {
   "cell_type": "code",
   "execution_count": null,
   "metadata": {},
   "outputs": [],
   "source": [
    "import matplotlib.pyplot as plt\n",
    "import pyFAI.gui.jupyter\n",
    "import pyFAI\n",
    "import fabio\n",
    "from pyFAI.test.utilstest import UtilsTest\n",
    "from pyFAI.calibrant import CALIBRANT_FACTORY\n",
    "from pyFAI.goniometer import SingleGeometry\n",
    "import pathlib\n",
    "figure_size = 10"
   ]
  },
  {
   "cell_type": "markdown",
   "metadata": {},
   "source": [
    "Load and show the calibration image"
   ]
  },
  {
   "cell_type": "code",
   "execution_count": null,
   "metadata": {},
   "outputs": [],
   "source": [
    "filename = \"calibration/DLS_CeO2_1200mm.tif\"\n",
    "frame = fabio.open(filename).data\n",
    "figure = plt.figure(figsize=(figure_size, figure_size))\n",
    "ax = plt.gca()\n",
    "pyFAI.gui.jupyter.display(frame, ax=ax)"
   ]
  },
  {
   "cell_type": "markdown",
   "metadata": {},
   "source": [
    "Define geometry components such as beam center and detector distance."
   ]
  },
  {
   "cell_type": "code",
   "execution_count": null,
   "metadata": {},
   "outputs": [],
   "source": [
    "x = 712.136 # x-coordinate of the beam-center in pixels\n",
    "y = 727.864 # y-coordinate of the beam-center in pixels\n",
    "d = 1194.046 # This is the distance in mm (unit used by Fit2d)\n",
    "wl = 1.393000e-11 # Beam wavelength"
   ]
  },
  {
   "cell_type": "markdown",
   "metadata": {},
   "source": [
    "Definition of the detector and of the calibrant"
   ]
  },
  {
   "cell_type": "code",
   "execution_count": null,
   "metadata": {},
   "outputs": [],
   "source": [
    "detector = pyFAI.detectors.Detector(pixel1=0.000296, pixel2=0.000296)\n",
    "print(detector)\n",
    "calibrant = CALIBRANT_FACTORY(\"CeO2\")\n",
    "calibrant.wavelength = wl\n",
    "calibrant"
   ]
  },
  {
   "cell_type": "markdown",
   "metadata": {},
   "source": [
    "Set the geometry of the detector to be the guessed geometry"
   ]
  },
  {
   "cell_type": "code",
   "execution_count": null,
   "metadata": {},
   "outputs": [],
   "source": [
    "initial_geometry = pyFAI.geometry.Geometry(detector=detector, wavelength=wl)\n",
    "initial_geometry.setFit2D(d, x, y)\n",
    "initial_geometry"
   ]
  },
  {
   "cell_type": "markdown",
   "metadata": {},
   "source": [
    "We now use the SingleGeometry object to perform automatic ring extraction and calibration"
   ]
  },
  {
   "cell_type": "code",
   "execution_count": null,
   "metadata": {},
   "outputs": [],
   "source": [
    "sg = SingleGeometry(\"demo\", frame, calibrant=calibrant, detector=detector, geometry=initial_geometry)\n",
    "sg.extract_cp(max_rings=10)"
   ]
  },
  {
   "cell_type": "markdown",
   "metadata": {},
   "source": [
    "This figure shows that the fitted control points and rings overlap pretty. Refinement probably won't change much"
   ]
  },
  {
   "cell_type": "code",
   "execution_count": null,
   "metadata": {},
   "outputs": [],
   "source": [
    "figure = plt.figure(figsize=(figure_size, figure_size))\n",
    "ax = plt.gca()\n",
    "pyFAI.gui.jupyter.display(sg=sg, ax=ax)"
   ]
  },
  {
   "cell_type": "markdown",
   "metadata": {},
   "source": [
    "We refine the geometry, we leave the wavelength free as we know this but allow the other parameters to change. This accounts for any slight inaccuracy in the detector set up."
   ]
  },
  {
   "cell_type": "code",
   "execution_count": null,
   "metadata": {
    "scrolled": true
   },
   "outputs": [],
   "source": [
    "sg.geometry_refinement.refine2(fix=[\"wavelength\"])"
   ]
  },
  {
   "cell_type": "markdown",
   "metadata": {},
   "source": [
    "This figure shows the result of the refinement."
   ]
  },
  {
   "cell_type": "code",
   "execution_count": null,
   "metadata": {},
   "outputs": [],
   "source": [
    "figure = plt.figure(figsize=(figure_size, figure_size))\n",
    "ax = plt.gca()\n",
    "pyFAI.gui.jupyter.display(sg=sg, ax=ax)"
   ]
  },
  {
   "cell_type": "markdown",
   "metadata": {},
   "source": [
    "We can now save the refinement to a file to be used later"
   ]
  },
  {
   "cell_type": "code",
   "execution_count": null,
   "metadata": {},
   "outputs": [],
   "source": [
    "# Delete the calibration if it already exists\n",
    "calibration_path = \"calibration/DLS_CeO2_1200mm_pyFAI.poni\"\n",
    "pathlib.Path(calibration_path).unlink(missing_ok=True)\n",
    "\n",
    "#Save the geometry obtained\n",
    "sg.geometry_refinement.save(calibration_path)\n",
    "with open(calibration_path) as f:\n",
    "    print(f.read())"
   ]
  },
  {
   "cell_type": "markdown",
   "metadata": {},
   "source": [
    "We can see some very small changes in the rotation angles as a result of the refinement.\n",
    "\n",
    "## Plot intensity changes over time"
   ]
  },
  {
   "cell_type": "markdown",
   "metadata": {},
   "source": [
    "This notebook uses real data and creates an `Intensity-Time` plot for a single lattice plane.\n",
    "\n",
    "Load calibration image."
   ]
  },
  {
   "cell_type": "code",
   "execution_count": null,
   "metadata": {},
   "outputs": [],
   "source": [
    "import math\n",
    "import numpy as np"
   ]
  },
  {
   "cell_type": "code",
   "execution_count": null,
   "metadata": {},
   "outputs": [],
   "source": [
    "number_of_cakes = 36\n",
    "ai = pyFAI.load(\"calibration/DLS_CeO2_1200mm_pyFAI.poni\")\n",
    "# Rotate the detector so that the cardinal direction is in the center of the first cake.\n",
    "cake_angle = 360 / number_of_cakes\n",
    "ai.rot3 = (cake_angle / 2) * (math.pi / 180) # convert rotation to radians\n",
    "print(\"\\nIntegrator: \\n\", ai)"
   ]
  },
  {
   "cell_type": "code",
   "execution_count": null,
   "metadata": {},
   "outputs": [],
   "source": [
    "def plot_single_slice(ai, input_file: str, two_theta_min: int, two_theta_max: int, \n",
    "                      number_of_points: int = 1000, number_of_cakes: int = 36000):\n",
    "    \n",
    "    \"\"\" Plot an azimuthal angle versus two-theta slice from a diffraction pattern image.\n",
    "    \n",
    "    :param input_file: input file name of the diffraction pattern image.\n",
    "    :param two_theta_min: minimum two-theta value for the slicing of the data.\n",
    "    :param two_theta_max: maximum two-theta value for the slicing of the data\n",
    "    :param number_of_points: number of radial points in two-theta (default is 1000).\n",
    "    :param number_of_cakes: number of azimuthal points in chi, default gives 0.01 degree resolution (default is 36000).\n",
    "    \n",
    "    :return: numpy array containing the azimuthal angles, and the intensity values for each time increment.\n",
    "    \"\"\" \n",
    "    \n",
    "    image = fabio.open(input_file).data\n",
    "    \n",
    "    result = ai.integrate2d(image, number_of_points, number_of_cakes, unit=\"2th_deg\")\n",
    "    \n",
    "    result_intensity = result.intensity \n",
    "    result_radial = result.radial\n",
    "    result_azimuthal = result.azimuthal\n",
    "    \n",
    "    fig, (ax1, ax2) = plt.subplots(nrows=1, ncols=2)\n",
    "    \n",
    "    image1 = ax1.imshow(result_intensity,\n",
    "               origin='lower',\n",
    "               extent=[result_radial.min(), \n",
    "                       result_radial.max(), \n",
    "                       result_azimuthal.min(), \n",
    "                       result_azimuthal.max()],\n",
    "               cmap='viridis',\n",
    "               interpolation='none',\n",
    "               aspect='auto',\n",
    "               vmax = 100)\n",
    "#     plt.colorbar(image1)\n",
    "#     plt.xlabel(r\"Scattering angle ${\\theta}$ ($^{o}$)\")   \n",
    "#     plt.ylabel(r\"Azimuthal angle ${\\chi}$ ($^{o}$)\");\n",
    "\n",
    "    two_theta_min_value, two_theta_min_index = find_nearest(result_radial, two_theta_min)\n",
    "    print(\"The closest two-theta value = \", two_theta_min_value, \", with index = \", two_theta_min_index)\n",
    "\n",
    "    two_theta_max_value, two_theta_max_index = find_nearest(result_radial, two_theta_max)\n",
    "    print(\"The closest two-theta value = \", two_theta_max_value, \", with index = \", two_theta_max_index)\n",
    "\n",
    "    result_intensity_cropped = result_intensity[:,two_theta_min_index:two_theta_max_index]\n",
    "    result_radial_cropped = result_radial[two_theta_min_index:two_theta_max_index]\n",
    "    \n",
    "    image2 = ax2.imshow(result_intensity_cropped,\n",
    "               origin='lower',\n",
    "               extent=[result_radial_cropped.min(), \n",
    "                       result_radial_cropped.max(), \n",
    "                       result_azimuthal.min(), \n",
    "                       result_azimuthal.max()],\n",
    "               cmap='viridis',\n",
    "               interpolation='none',\n",
    "               aspect='auto',\n",
    "               vmax = 100)\n",
    "#     plt.colorbar(image2)\n",
    "#     plt.xlabel(r\"Scattering angle ${\\theta}$ ($^{o}$)\")   \n",
    "#     plt.ylabel(r\"Azimuthal angle ${\\chi}$ ($^{o}$)\");"
   ]
  },
  {
   "cell_type": "code",
   "execution_count": null,
   "metadata": {},
   "outputs": [],
   "source": [
    "def find_nearest(array, value):\n",
    "    array = np.asarray(array)\n",
    "    index = (np.abs(array - value)).argmin()\n",
    "    return array[index], index"
   ]
  },
  {
   "cell_type": "code",
   "execution_count": null,
   "metadata": {},
   "outputs": [],
   "source": [
    "# user inputs\n",
    "input_file = \"data/MAUD/pixium_03100.tif\"\n",
    "two_theta_min = 3\n",
    "two_theta_max = 4\n",
    "number_of_points = 1000 # 10000 runs slow, so try 1000\n",
    "number_of_cakes = 36000 # 36000 gives 0.01 degree resolution for azimuthal changes\n",
    "\n",
    "plot_single_slice(ai, input_file, two_theta_min, two_theta_max, number_of_points, number_of_cakes)"
   ]
  },
  {
   "cell_type": "markdown",
   "metadata": {},
   "source": [
    "Use the following function to save the intensity changes with time for a specific lattice plane."
   ]
  },
  {
   "cell_type": "code",
   "execution_count": null,
   "metadata": {},
   "outputs": [],
   "source": [
    "def get_intensity_time(ai, input_filepath: str, output_filepath:str, lattice_plane: str, two_theta_min: int, \n",
    "                       two_theta_max: int, number_of_points: int = 1000, number_of_cakes = 36000): \n",
    "    \n",
    "    \"\"\" Get the intensity data around a ring for a given two-theta slice from a set of diffraction pattern \n",
    "    images, and save as a text file.\n",
    "    \n",
    "    :param ai: pyFAI detector calibration.\n",
    "    :param input_filepath: input filepath containing the diffraction pattern images.\n",
    "    :param output_filepath: output filepath for saving the analysis text file.\n",
    "    :param lattice_plane: hkil or hkl indices of the lattice plane.\n",
    "    :param two_theta_min: minimum two-theta value for the slicing of the data.\n",
    "    :param two_theta_max: maximum two-theta value for the slicing of the data\n",
    "    :param number_of_points: number of radial points in two-theta (default is 1000).\n",
    "    :param number_of_cakes: number of azimuthal points in chi, default gives 0.01 degree resolution (default is 36000).\n",
    "    \n",
    "    :return: numpy array containing the azimuthal angles, and the intensity values for each time increment.\n",
    "    \"\"\" \n",
    "    # Get a list of the files\n",
    "    image_list = sorted(pathlib.Path(input_filepath).glob(\"pixium*\"))\n",
    "\n",
    "    start = True\n",
    "\n",
    "    for image_path in tqdm(image_list):\n",
    "\n",
    "        # create an image array and cake the data\n",
    "        with warnings.catch_warnings():\n",
    "            warnings.simplefilter(\"ignore\")\n",
    "            image = fabio.open(image_path)\n",
    "        pattern_image_array = image.data\n",
    "        result2d = ai.integrate2d(pattern_image_array,\n",
    "                                  number_of_points,\n",
    "                                  number_of_cakes,\n",
    "                                  unit=\"2th_deg\",\n",
    "                                  polarization_factor=0.99,\n",
    "                                  method='full_csr')\n",
    "        # get the caked results\n",
    "        result_intensity = result2d.intensity \n",
    "        result_radial = result2d.radial\n",
    "        result_azimuthal = result2d.azimuthal\n",
    "        # Slice around a ring using the two-theta min and max values\n",
    "        two_theta_min_value, two_theta_min_index = find_nearest(result_radial, two_theta_min)\n",
    "        two_theta_max_value, two_theta_max_index = find_nearest(result_radial, two_theta_max)\n",
    "        result_intensity_sum = result_intensity[:,two_theta_min_index:two_theta_max_index].sum(axis=1)\n",
    "\n",
    "        if start:\n",
    "            # create an empty array to store the results\n",
    "            result_array = np.array([result_azimuthal,result_intensity_sum])\n",
    "            start = False\n",
    "\n",
    "        else:\n",
    "            # stack the results in the array\n",
    "            result_array = np.vstack((result_array,result_intensity_sum))\n",
    "\n",
    "    # write out the data to a text file\n",
    "    result_array = np.transpose(result_array)\n",
    "    np.savetxt(f\"{output_filepath}intensity_time_{lattice_plane}.txt\", result_array)\n",
    "\n",
    "    return (result_array)"
   ]
  },
  {
   "cell_type": "code",
   "execution_count": null,
   "metadata": {},
   "outputs": [],
   "source": [
    "# user inputs\n",
    "input_filepath = \"data/MAUD/\"\n",
    "output_filepath = \"analysis/\"\n",
    "lattice_plane = \"(10-10)\"\n",
    "two_theta_min = 2\n",
    "two_theta_max = 3\n",
    "number_of_points = 1000 # 10000 runs slow, so try 1000\n",
    "number_of_cakes = 36000 # 36000 gives 0.01 degree resolution for azimuthal changes\n",
    "\n",
    "result_array = get_intensity_time(ai, input_filepath, output_filepath, lattice_plane, two_theta_min, \n",
    "                                  two_theta_max, number_of_points, number_of_cakes)"
   ]
  },
  {
   "cell_type": "markdown",
   "metadata": {},
   "source": [
    "The result array contains the azimuthal values in the first column, and the intensity values with time, in the subsequent columns."
   ]
  },
  {
   "cell_type": "code",
   "execution_count": null,
   "metadata": {},
   "outputs": [],
   "source": [
    "intensity_array = result_array[:,1:]\n",
    "azimuthal_array = result_array[:,0]\n",
    "time = np.arange(0,np.size(intensity_array,1))"
   ]
  },
  {
   "cell_type": "markdown",
   "metadata": {},
   "source": [
    "We can now plot the intensity changes for a single lattice plane with time."
   ]
  },
  {
   "cell_type": "code",
   "execution_count": null,
   "metadata": {},
   "outputs": [],
   "source": [
    "plt.imshow(intensity_array,\n",
    "           origin='lower',\n",
    "           extent=[time.min(), \n",
    "                   time.max(), \n",
    "                   azimuthal_array.min(), \n",
    "                   azimuthal_array.max()],\n",
    "           cmap='viridis',\n",
    "           interpolation='none',\n",
    "           aspect='auto')\n",
    "\n",
    "plt.colorbar()\n",
    "plt.xlabel(r\"Time (s)\")   \n",
    "plt.ylabel(r\"Azimuthal angle ${\\chi}$ ($^{o}$)\");"
   ]
  },
  {
   "cell_type": "markdown",
   "metadata": {},
   "source": [
    "## Plot intensity changes over time for different lattice planes"
   ]
  },
  {
   "cell_type": "code",
   "execution_count": null,
   "metadata": {},
   "outputs": [],
   "source": []
  }
 ],
 "metadata": {
  "kernelspec": {
   "display_name": "Python 3",
   "language": "python",
   "name": "python3"
  },
  "language_info": {
   "codemirror_mode": {
    "name": "ipython",
    "version": 3
   },
   "file_extension": ".py",
   "mimetype": "text/x-python",
   "name": "python",
   "nbconvert_exporter": "python",
   "pygments_lexer": "ipython3",
   "version": "3.8.2"
  }
 },
 "nbformat": 4,
 "nbformat_minor": 4
}
