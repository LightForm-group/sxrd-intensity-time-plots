{
 "cells": [
  {
   "cell_type": "markdown",
   "metadata": {},
   "source": [
    "This notebook uses real diffraction pattern intensity data and creates `Intensity-Time` plots for individual lattice planes."
   ]
  },
  {
   "cell_type": "code",
   "execution_count": null,
   "metadata": {},
   "outputs": [],
   "source": [
    "import matplotlib.pyplot as plt\n",
    "import pyFAI.gui.jupyter\n",
    "import pyFAI\n",
    "import fabio\n",
    "from pyFAI.test.utilstest import UtilsTest\n",
    "from pyFAI.calibrant import CALIBRANT_FACTORY\n",
    "from pyFAI.goniometer import SingleGeometry\n",
    "import math\n",
    "import numpy as np\n",
    "import pathlib\n",
    "from tqdm import tqdm\n",
    "import warnings\n",
    "import yaml\n",
    "import os\n",
    "import re\n",
    "\n",
    "import intensity_time_functions as analysis\n",
    "%load_ext autoreload\n",
    "%autoreload 2\n",
    "\n",
    "figure_size = 20"
   ]
  },
  {
   "cell_type": "markdown",
   "metadata": {},
   "source": [
    "## Load YAML file"
   ]
  },
  {
   "cell_type": "markdown",
   "metadata": {},
   "source": [
    "The file paths and user inputs for the analysis of the Diamond 2022 experiment is included in the `yaml` configuration file, to record the inputs of the analysis.\n",
    "\n",
    "The information in the `yaml` file can be accessed like this."
   ]
  },
  {
   "cell_type": "code",
   "execution_count": null,
   "metadata": {},
   "outputs": [],
   "source": [
    "# to load the example analysis\n",
    "config_path = \"yaml/config_EXAMPLE.yaml\"\n",
    "\n",
    "# to load the Diamond 2022 analysis\n",
    "# config_path = \"yaml/config_diamond_2022.yaml\"\n",
    "config = analysis.get_config(config_path)"
   ]
  },
  {
   "cell_type": "markdown",
   "metadata": {},
   "source": [
    "## Define input and output file paths"
   ]
  },
  {
   "cell_type": "markdown",
   "metadata": {},
   "source": [
    "Define input and output file paths for the intensity-time analysis."
   ]
  },
  {
   "cell_type": "code",
   "execution_count": null,
   "metadata": {},
   "outputs": [],
   "source": [
    "input_calibration_path = config[\"file_paths\"][\"input_calibration_path\"]\n",
    "print(\"The input path for the .poni calibration file is:\", input_calibration_path)\n",
    "\n",
    "input_path = config[\"file_paths\"][\"input_path\"]\n",
    "print(\"The input path for the experiment is:\", input_path)\n",
    "\n",
    "input_experiment_list = config[\"file_paths\"][\"input_experiment_list\"]\n",
    "print(\"The list of input experiment file paths to choose from is:\", input_experiment_list)\n",
    "\n",
    "output_path = config[\"file_paths\"][\"output_path\"]\n",
    "print(\"The output path for the experiment is:\", output_path)\n",
    "\n",
    "output_experiment_list = config[\"file_paths\"][\"output_experiment_list\"]\n",
    "print(\"The list of output experiment file paths to choose from is:\", output_experiment_list)"
   ]
  },
  {
   "cell_type": "markdown",
   "metadata": {},
   "source": [
    "The `order_number` defined below will set the experiment to analyse, choose from the list in the yaml file, starting at zero."
   ]
  },
  {
   "cell_type": "code",
   "execution_count": null,
   "metadata": {},
   "outputs": [],
   "source": [
    "order_number = 0"
   ]
  },
  {
   "cell_type": "markdown",
   "metadata": {},
   "source": [
    "## Load calibration"
   ]
  },
  {
   "cell_type": "markdown",
   "metadata": {},
   "source": [
    "Load a .poni calibration file, containing the calibration parameters from refinement to a calibrant diffraction pattern.\n",
    "\n",
    "To create a .poni calibration file, please follow the procedure in the [pyFAI-integration-caking](https://github.com/LightForm-group/pyFAI-integration-caking) notebooks."
   ]
  },
  {
   "cell_type": "code",
   "execution_count": null,
   "metadata": {},
   "outputs": [],
   "source": [
    "ai = pyFAI.load(input_calibration_path)"
   ]
  },
  {
   "cell_type": "markdown",
   "metadata": {},
   "source": [
    "## Plot a single slice"
   ]
  },
  {
   "cell_type": "markdown",
   "metadata": {},
   "source": [
    "Plot a single slice image from the first image in the sequence. \n",
    "\n",
    "Use the numbers below to define two-theta bounds that only just contain a single diffraction pattern ring.\n",
    "\n",
    "You can also alter the number of points and number of cakes to define the two-theta and azimuthal resolution. However, the values of 10000 and 360 seem to work best."
   ]
  },
  {
   "cell_type": "code",
   "execution_count": null,
   "metadata": {},
   "outputs": [],
   "source": [
    "input_filepath = input_path + input_experiment_list[order_number]\n",
    "two_theta_min = 4.76\n",
    "two_theta_max = 4.92\n",
    "number_of_points = 10000 # 10000 gives best two-theta resolution, but 1000 is faster to run\n",
    "number_of_cakes = 360 # 360 gives 1 degree azimuthal resolution\n",
    "\n",
    "image_number = 0\n",
    "v_max = 100\n",
    "# v_max = 5000\n",
    "\n",
    "analysis.plot_single_slice(ai, input_filepath, two_theta_min, two_theta_max, number_of_points, number_of_cakes, \n",
    "                           image_number, v_max)"
   ]
  },
  {
   "cell_type": "markdown",
   "metadata": {},
   "source": [
    "## Define intensity-time plot inputs"
   ]
  },
  {
   "cell_type": "markdown",
   "metadata": {},
   "source": [
    "Define user inputs for the intensity-time plot analysis."
   ]
  },
  {
   "cell_type": "code",
   "execution_count": null,
   "metadata": {},
   "outputs": [],
   "source": [
    "lattice_planes = config[\"user_inputs\"][\"lattice_planes\"]\n",
    "print(\"The hkil or hkl indices of the lattice plane peak labels is:\", lattice_planes)\n",
    "\n",
    "two_theta_min = config[\"user_inputs\"][\"two_theta_min\"][order_number]\n",
    "print(\"The list of two theta minimum bounds is:\", two_theta_min)\n",
    "\n",
    "two_theta_max = config[\"user_inputs\"][\"two_theta_max\"][order_number]\n",
    "print(\"The list of two theta maximum bounds is:\", two_theta_max)\n",
    "\n",
    "v_max = config[\"user_inputs\"][\"v_max\"][order_number]\n",
    "print(\"The colormap data range is:\", v_max)\n",
    "\n",
    "number_of_points = config[\"user_inputs\"][\"number_of_points\"][order_number]\n",
    "print(\"The number of points in two-theta for the integration is:\", number_of_points)\n",
    "\n",
    "number_of_cakes = config[\"user_inputs\"][\"number_of_cakes\"][order_number]\n",
    "print(\"The number of azimuthal cakes is:\", number_of_cakes)\n",
    "\n",
    "image_step = config[\"user_inputs\"][\"image_step\"][order_number]\n",
    "print(\"The image step to analyse the data is every :\", image_step, \" images.\")\n",
    "\n",
    "acquisition_frequency = config[\"user_inputs\"][\"acquisition_frequency\"][order_number]\n",
    "print(\"The acquisition frequency of the data collection (in Hz) is:\", acquisition_frequency)"
   ]
  },
  {
   "cell_type": "code",
   "execution_count": null,
   "metadata": {},
   "outputs": [],
   "source": [
    "input_filepath = input_path + input_experiment_list[order_number]\n",
    "print(\"The input filepath for the experiment is:\", input_filepath)\n",
    "\n",
    "output_filepath = output_path + output_experiment_list[order_number]\n",
    "print(\"The output filepath for the experiment is:\", output_filepath)"
   ]
  },
  {
   "cell_type": "markdown",
   "metadata": {},
   "source": [
    "## Calculate intensity changes over time for different lattice planes"
   ]
  },
  {
   "cell_type": "markdown",
   "metadata": {},
   "source": [
    "Use the following function to save the intensity changes with time for a specific lattice plane."
   ]
  },
  {
   "cell_type": "code",
   "execution_count": null,
   "metadata": {
    "scrolled": true
   },
   "outputs": [],
   "source": [
    "result_dict = analysis.get_intensity_time(ai, input_filepath, output_filepath, lattice_planes, \n",
    "                                          two_theta_min, two_theta_max, number_of_points, number_of_cakes, \n",
    "                                          image_step)"
   ]
  },
  {
   "cell_type": "markdown",
   "metadata": {},
   "source": [
    "## Plot intensity changes over time for individual lattice planes"
   ]
  },
  {
   "cell_type": "markdown",
   "metadata": {},
   "source": [
    "The result dictionary can be accessed using the lattice plane strings as the keys.\n",
    "\n",
    "We can therefore plot the intensity changes for a single lattice plane with time. \n",
    "\n",
    "**Uncomment the lines in the cell below** to test different values for the v_max parameter for producing the best image."
   ]
  },
  {
   "cell_type": "code",
   "execution_count": null,
   "metadata": {
    "scrolled": false
   },
   "outputs": [],
   "source": [
    "# lattice_plane_number = 5\n",
    "# v_max = 20000\n",
    "\n",
    "# analysis.plot_intensity_time(result_dict, lattice_plane_number, lattice_planes, v_max, \n",
    "#                              acquisition_frequency, image_step, output_filepath, test = True)"
   ]
  },
  {
   "cell_type": "markdown",
   "metadata": {},
   "source": [
    "## Save intensity-time plots for different lattice planes"
   ]
  },
  {
   "cell_type": "markdown",
   "metadata": {},
   "source": [
    "To plot out the final intensity-time plots for all of our lattice planes, we can use the following function.\n",
    "\n",
    "*Note, be sure to reload the input parameters from the yaml text file to set the v_max parameters.*"
   ]
  },
  {
   "cell_type": "code",
   "execution_count": null,
   "metadata": {},
   "outputs": [],
   "source": [
    "analysis.save_intensity_time(result_dict, lattice_planes, v_max, \n",
    "                             acquisition_frequency, image_step, output_filepath)"
   ]
  },
  {
   "cell_type": "markdown",
   "metadata": {},
   "source": [
    "## Load text data for intensity-time plots"
   ]
  },
  {
   "cell_type": "markdown",
   "metadata": {},
   "source": [
    "The intensity-time data that has been saved as text files can be reloaded for further analysis using the function below.\n",
    "\n",
    "*Note, this uses the output filepath defined in the yaml text file, and used for saving the original data.*"
   ]
  },
  {
   "cell_type": "code",
   "execution_count": null,
   "metadata": {
    "scrolled": true
   },
   "outputs": [],
   "source": [
    "load_result_dict, load_lattice_planes = analysis.load_intensity_time_data(output_filepath)"
   ]
  },
  {
   "cell_type": "markdown",
   "metadata": {},
   "source": [
    "We can then test different values for the v_max parameter by **uncommenting the lines in the cell below** \n",
    "\n",
    "*Note, using load_result_dict as a new parameter in the function.\n",
    "But, still using lattice_planes as the old parameter, due to glob reordering.*"
   ]
  },
  {
   "cell_type": "code",
   "execution_count": null,
   "metadata": {},
   "outputs": [],
   "source": [
    "# lattice_plane_number = 5\n",
    "# v_max = 20000\n",
    "\n",
    "# analysis.plot_intensity_time(load_result_dict, lattice_plane_number, lattice_planes, v_max, \n",
    "#                              acquisition_frequency, image_step, output_filepath, test = True)"
   ]
  },
  {
   "cell_type": "markdown",
   "metadata": {},
   "source": [
    "And we can replot the final intensity-time plots for all of our lattice planes.\n",
    "\n",
    "*Note, using load_result_dict as a new parameter in the function.\n",
    "But, still using lattice_planes as the old parameter, due to glob reordering.*"
   ]
  },
  {
   "cell_type": "code",
   "execution_count": null,
   "metadata": {},
   "outputs": [],
   "source": [
    "analysis.save_intensity_time(load_result_dict, lattice_planes, v_max, \n",
    "                             acquisition_frequency, image_step, output_filepath)"
   ]
  },
  {
   "cell_type": "code",
   "execution_count": null,
   "metadata": {},
   "outputs": [],
   "source": []
  }
 ],
 "metadata": {
  "kernelspec": {
   "display_name": "Python 3",
   "language": "python",
   "name": "python3"
  },
  "language_info": {
   "codemirror_mode": {
    "name": "ipython",
    "version": 3
   },
   "file_extension": ".py",
   "mimetype": "text/x-python",
   "name": "python",
   "nbconvert_exporter": "python",
   "pygments_lexer": "ipython3",
   "version": "3.7.3"
  }
 },
 "nbformat": 4,
 "nbformat_minor": 4
}
